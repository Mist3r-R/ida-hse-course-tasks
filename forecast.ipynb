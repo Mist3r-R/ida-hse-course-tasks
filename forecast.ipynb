{
 "cells": [
  {
   "cell_type": "markdown",
   "metadata": {},
   "source": [
    "## Генератор описания прогноза погоды\n",
    "\n",
    "----\n",
    "\n",
    "### Задания:\n",
    "\n",
    "#### 1. Скачивание данных о состоянии погоды в городе с gismeteo.ru\n",
    "Выберите город в России и найдите прогноз погоды в нем на ближайшие 10 дней на сайте gismeteo.ru.\n",
    "Используя известные вам библиотеки для работы с протоколом http и html кодом, извлеките прогноз на ближайшие 10 дней.\n",
    "\n",
    "Резльтатом сбора данных должна быть таблица со следующими строками:\n",
    "* минимальная температура\n",
    "* максимальна температура\n",
    "* скорость ветра\n",
    "* уровень осадков \n",
    "\n",
    "В столбцах таблицы должны быть даты и дни недели.\n",
    "\n",
    "#### 2. Генерация описания прогноза\n",
    "\n",
    "Прогноз погоды должен состоять из следующих (или подобным им) предложений, генерируемых по шаблонам (ниже три шаблона):\n",
    "* В день1 похолодает / потеплеет на X градус (-а, -ов) по сравнению с день2\n",
    "    * *В четверг в НазваниеГорода потеплеет на 7 градусов по сравнению со средой*\n",
    "* Скорость ветра изменится на X единиц в день1 по сравнению с день2.\n",
    "    * *Скорость ветра изменится на 3 единицы в понедельник по сравнению с пятницей*\n",
    "* Уровень осадков повысится / понизится на X единиц за Y дней. \n",
    "    * *Уровень осадков понится на 3.85 единиц за 7 дней*\n",
    "\n",
    "Вместо НазваниеГорода подставьте название выбранного вами города, используя фунцкии для согласования существительных с предлогами. \n",
    "\n",
    "#### 3. Ответы на вопросы\n",
    "\n",
    "---"
   ]
  },
  {
   "cell_type": "markdown",
   "metadata": {},
   "source": [
    "### 1. Сбор данных"
   ]
  },
  {
   "cell_type": "markdown",
   "metadata": {},
   "source": [
    "Скачаем информацию о погоде в городе Петрозаводск на 10 ближайших дней.\n",
    "\n",
    "Информация доступна по ссылке - https://www.gismeteo.ru/weather-petrozavodsk-3934/10-days/"
   ]
  },
  {
   "cell_type": "markdown",
   "metadata": {},
   "source": [
    "Подключим необходимые библиотеки:"
   ]
  },
  {
   "cell_type": "code",
   "execution_count": 64,
   "metadata": {},
   "outputs": [],
   "source": [
    "import requests\n",
    "import pandas as pd\n",
    "from bs4 import BeautifulSoup"
   ]
  },
  {
   "cell_type": "markdown",
   "metadata": {},
   "source": [
    "Чтобы сайт не распознал в нас робота, передадим в header корректный User-Agent."
   ]
  },
  {
   "cell_type": "code",
   "execution_count": 9,
   "metadata": {},
   "outputs": [],
   "source": [
    "url = 'http://www.gismeteo.ru/weather-petrozavodsk-3934/10-days/'\n",
    "headers = {\n",
    "        'User-Agent': 'Mozilla/5.0 (Macintosh; Intel Mac OS X 10.9; rv:45.0) Gecko/20100101 Firefox/45.0'\n",
    "      }\n",
    "r = requests.get(url, headers = headers)"
   ]
  },
  {
   "cell_type": "markdown",
   "metadata": {},
   "source": [
    "Сохраним страницу в локальный файл:\n",
    "\n",
    "*Прим.: Полученный при первом скачивании файл прилагается вместе с данным notebook*"
   ]
  },
  {
   "cell_type": "code",
   "execution_count": 16,
   "metadata": {},
   "outputs": [],
   "source": [
    "with open('data/test.html', 'w') as output_file:\n",
    "  output_file.write(r.text)"
   ]
  },
  {
   "cell_type": "markdown",
   "metadata": {},
   "source": [
    "Функция для открытия файла. Может быть использована при проверке для открытия той же страницы, что была получена при выполнении задания."
   ]
  },
  {
   "cell_type": "code",
   "execution_count": 42,
   "metadata": {},
   "outputs": [],
   "source": [
    "def read_file(filename):\n",
    "    with open(filename) as input_file:\n",
    "        text = input_file.read()\n",
    "    return text"
   ]
  },
  {
   "cell_type": "markdown",
   "metadata": {},
   "source": [
    "Для парсинга html будем использовать BeautifulSoup. Явно укажем парсер, чтобы избежать непредсказуемого поведения при запуске в другой системе или среде."
   ]
  },
  {
   "cell_type": "code",
   "execution_count": 45,
   "metadata": {},
   "outputs": [],
   "source": [
    "soup = BeautifulSoup(r.content, \"lxml\")\n",
    "#soup = BeautifulSoup(read_file('data/test.html'), \"lxml\")"
   ]
  },
  {
   "cell_type": "markdown",
   "metadata": {},
   "source": [
    "Распарсим блок виджета с датами и днями недели:"
   ]
  },
  {
   "cell_type": "code",
   "execution_count": 67,
   "metadata": {},
   "outputs": [
    {
     "name": "stdout",
     "output_type": "stream",
     "text": [
      "['Пн 19 фев', 'Вт 20', 'Ср 21', 'Чт 22', 'Пт 23', 'Сб 24', 'Вс 25', 'Пн 26', 'Вт 27', 'Ср 28']\n"
     ]
    }
   ],
   "source": [
    "dates = []\n",
    "days_list = soup.find('div',{'class':'widget__row'})\n",
    "#print(days_list)\n",
    "days = days_list.find_all('div',{'class':'w_date'})\n",
    "for d in days:\n",
    "    day = d.find('div',{'class':'w_date__day'}).text\n",
    "    date = d.find('span',{'class':['w_date__date black','w_date__date weekend']}).text\n",
    "    dates.append(day + ' ' + date.strip())\n",
    "    \n",
    "print(dates)"
   ]
  },
  {
   "cell_type": "markdown",
   "metadata": {},
   "source": [
    "Распарсим блок виджета с температурой:"
   ]
  },
  {
   "cell_type": "code",
   "execution_count": 68,
   "metadata": {},
   "outputs": [
    {
     "name": "stdout",
     "output_type": "stream",
     "text": [
      "['−8', '−7', '−8', '−12', '−12', '−14', '−11', '−8', '−8', '−3']\n",
      "['−10', '−9', '−12', '−16', '−17', '−17', '−21', '−11', '−15', '−7']\n"
     ]
    }
   ],
   "source": [
    "temps_max = []\n",
    "temps_min = []\n",
    "temp_list = soup.find('div',{'class':'templine w_temperature'})\n",
    "vals = temp_list.find_all('div',{'class':'value'})\n",
    "for val in vals:\n",
    "    mint = val.find('div',{'class':'mint'}).text\n",
    "    maxt = val.find('div',{'class':'maxt'}).text\n",
    "    temps_max.append(maxt)\n",
    "    temps_min.append(mint)\n",
    "\n",
    "print(temps_max)\n",
    "print(temps_min)"
   ]
  },
  {
   "cell_type": "markdown",
   "metadata": {},
   "source": [
    "Распарсим блок виджета с ветром:"
   ]
  },
  {
   "cell_type": "code",
   "execution_count": 60,
   "metadata": {},
   "outputs": [
    {
     "name": "stdout",
     "output_type": "stream",
     "text": [
      "['7', '10', '8', '8', '7', '6', '10', '12', '15', '14']\n"
     ]
    }
   ],
   "source": [
    "winds = []\n",
    "wind_list = soup.find('div',{'class':'widget__container'}).find_all('div',{'class':'widget__row widget__row_table'})[2]\n",
    "ws = wind_list.find_all('div',{'class','w_wind'})\n",
    "for w in ws:\n",
    "    winds.append(w.text.strip())\n",
    "    \n",
    "print(winds)"
   ]
  },
  {
   "cell_type": "markdown",
   "metadata": {},
   "source": [
    "Распарсим блок виджета с осадками:"
   ]
  },
  {
   "cell_type": "code",
   "execution_count": 63,
   "metadata": {},
   "outputs": [
    {
     "name": "stdout",
     "output_type": "stream",
     "text": [
      "['1.85', '1', '0.4', '0', '0.3', '0.1', '0.4', '0.8', '1.6', '1.2']\n"
     ]
    }
   ],
   "source": [
    "prec = []\n",
    "prec_list = soup.find('div',{'class':'widget__container'}).find_all('div',{'class':'widget__row widget__row_table'})[3]\n",
    "ps = prec_list.find_all('div',{'class','widget__item w_precipitation'})\n",
    "for p in ps:\n",
    "    prec.append(p.text.strip().replace(',','.'))\n",
    "    \n",
    "print(prec)"
   ]
  },
  {
   "cell_type": "markdown",
   "metadata": {},
   "source": [
    "Теперь можем собрать все в единую таблицу!"
   ]
  },
  {
   "cell_type": "code",
   "execution_count": 69,
   "metadata": {},
   "outputs": [
    {
     "data": {
      "text/html": [
       "<div>\n",
       "<style scoped>\n",
       "    .dataframe tbody tr th:only-of-type {\n",
       "        vertical-align: middle;\n",
       "    }\n",
       "\n",
       "    .dataframe tbody tr th {\n",
       "        vertical-align: top;\n",
       "    }\n",
       "\n",
       "    .dataframe thead th {\n",
       "        text-align: right;\n",
       "    }\n",
       "</style>\n",
       "<table border=\"1\" class=\"dataframe\">\n",
       "  <thead>\n",
       "    <tr style=\"text-align: right;\">\n",
       "      <th></th>\n",
       "      <th>Пн 19 фев</th>\n",
       "      <th>Вт 20</th>\n",
       "      <th>Ср 21</th>\n",
       "      <th>Чт 22</th>\n",
       "      <th>Пт 23</th>\n",
       "      <th>Сб 24</th>\n",
       "      <th>Вс 25</th>\n",
       "      <th>Пн 26</th>\n",
       "      <th>Вт 27</th>\n",
       "      <th>Ср 28</th>\n",
       "    </tr>\n",
       "  </thead>\n",
       "  <tbody>\n",
       "    <tr>\n",
       "      <th>min_temp</th>\n",
       "      <td>−10</td>\n",
       "      <td>−9</td>\n",
       "      <td>−12</td>\n",
       "      <td>−16</td>\n",
       "      <td>−17</td>\n",
       "      <td>−17</td>\n",
       "      <td>−21</td>\n",
       "      <td>−11</td>\n",
       "      <td>−15</td>\n",
       "      <td>−7</td>\n",
       "    </tr>\n",
       "    <tr>\n",
       "      <th>max_temp</th>\n",
       "      <td>−8</td>\n",
       "      <td>−7</td>\n",
       "      <td>−8</td>\n",
       "      <td>−12</td>\n",
       "      <td>−12</td>\n",
       "      <td>−14</td>\n",
       "      <td>−11</td>\n",
       "      <td>−8</td>\n",
       "      <td>−8</td>\n",
       "      <td>−3</td>\n",
       "    </tr>\n",
       "    <tr>\n",
       "      <th>wind_speed</th>\n",
       "      <td>7</td>\n",
       "      <td>10</td>\n",
       "      <td>8</td>\n",
       "      <td>8</td>\n",
       "      <td>7</td>\n",
       "      <td>6</td>\n",
       "      <td>10</td>\n",
       "      <td>12</td>\n",
       "      <td>15</td>\n",
       "      <td>14</td>\n",
       "    </tr>\n",
       "    <tr>\n",
       "      <th>precipitation</th>\n",
       "      <td>1.85</td>\n",
       "      <td>1</td>\n",
       "      <td>0.4</td>\n",
       "      <td>0</td>\n",
       "      <td>0.3</td>\n",
       "      <td>0.1</td>\n",
       "      <td>0.4</td>\n",
       "      <td>0.8</td>\n",
       "      <td>1.6</td>\n",
       "      <td>1.2</td>\n",
       "    </tr>\n",
       "  </tbody>\n",
       "</table>\n",
       "</div>"
      ],
      "text/plain": [
       "              Пн 19 фев Вт 20 Ср 21 Чт 22 Пт 23 Сб 24 Вс 25 Пн 26 Вт 27 Ср 28\n",
       "min_temp            −10    −9   −12   −16   −17   −17   −21   −11   −15    −7\n",
       "max_temp             −8    −7    −8   −12   −12   −14   −11    −8    −8    −3\n",
       "wind_speed            7    10     8     8     7     6    10    12    15    14\n",
       "precipitation      1.85     1   0.4     0   0.3   0.1   0.4   0.8   1.6   1.2"
      ]
     },
     "execution_count": 69,
     "metadata": {},
     "output_type": "execute_result"
    }
   ],
   "source": [
    "index = ['min_temp','max_temp','wind_speed','precipitation']\n",
    "df = pd.DataFrame(data=[temps_min, temps_max, winds, prec],columns=dates,index=index)\n",
    "df"
   ]
  },
  {
   "cell_type": "markdown",
   "metadata": {},
   "source": [
    "----\n",
    "### 2. Генератор описания прогноза погоды "
   ]
  },
  {
   "cell_type": "markdown",
   "metadata": {},
   "source": [
    "Подключим необходимые библиотеки."
   ]
  },
  {
   "cell_type": "code",
   "execution_count": 787,
   "metadata": {},
   "outputs": [],
   "source": [
    "import pymorphy2\n",
    "from pymorphy2.shapes import restore_capitalization #Необходим для сохранения регистра при склонении города"
   ]
  },
  {
   "cell_type": "markdown",
   "metadata": {},
   "source": [
    "Создадим словарь, в котором ключем будет дата, а значением название колонки в таблице. Так как наши 10 дней попадают в период одного месяца, в качестве даты достаточно будет указать число (от 19 до 28). Так же создадим второй словарь, который бы ассоциировал сокращения дней недели с полным словом."
   ]
  },
  {
   "cell_type": "code",
   "execution_count": 706,
   "metadata": {},
   "outputs": [],
   "source": [
    "dates_d = {i+19:dates[i] for i in range(0,10)}\n",
    "days_full = {'Пн':'Понедельник',\n",
    "            'Вт':'Вторник',\n",
    "            'Ср':'Среда',\n",
    "            'Чт':'Четверг',\n",
    "            'Пт':'Пятница',\n",
    "            'Сб':'Суббота',\n",
    "            'Вс':'Воскресенье'}"
   ]
  },
  {
   "cell_type": "code",
   "execution_count": 74,
   "metadata": {},
   "outputs": [],
   "source": [
    "morph = pymorphy2.MorphAnalyzer()\n",
    "city = 'Петрозаводск'"
   ]
  },
  {
   "cell_type": "markdown",
   "metadata": {},
   "source": [
    "Прогноз погоды будет генерироваться на основе следующих шаблонов:\n",
    "\n",
    "* *В день1 похолодает / потеплеет на X градус (-а, -ов) по сравнению с день2*\n",
    "* *Скорость ветра изменится на X единиц в день1 по сравнению с день2.*\n",
    "* *Уровень осадков повысится / понизится на X единиц за Y дней.*\n",
    "\n",
    "Для каждого шаблона напишем соответствующую функцию."
   ]
  },
  {
   "cell_type": "code",
   "execution_count": 788,
   "metadata": {},
   "outputs": [],
   "source": [
    "def temp_forecast(day_new, day_last):\n",
    "    day_n = days_full[dates_d[day_new][:2]]\n",
    "    day_l = days_full[dates_d[day_last][:2]]\n",
    "    temp_n = round((int(df[dates_d[day_new]].iloc[0].replace('−','-')) + int(df[dates_d[day_new]].iloc[1].replace('−','-')))/2)\n",
    "    temp_l = round((int(df[dates_d[day_last]].iloc[0].replace('−','-')) + int(df[dates_d[day_last]].iloc[1].replace('−','-')))/2)\n",
    "    diff = temp_n - temp_l\n",
    "    \n",
    "    if temp_n > temp_l:\n",
    "        change = 'потеплеет'\n",
    "    if temp_n < temp_l:\n",
    "        change = 'похолодает'\n",
    "    if temp_n == temp_l:\n",
    "        return 'Температура воздуха не изменится.'\n",
    "    \n",
    "    parsed_diff = morph.parse('единица')[0]\n",
    "    parsed_degree = morph.parse('градусы')[0]\n",
    "    prep_v = 'Во' if day_n == 'Вторник' else 'В'\n",
    "    prep_s = 'со' if day_l == 'Вторник' or day_l =='Среда' else 'с'\n",
    "    \n",
    "    parsed_city = morph.parse(city)[0]\n",
    "    parsed_day_n = morph.parse(day_n)[0]\n",
    "    parsed_day_l = morph.parse(day_l)[0]\n",
    "    \n",
    "    s = ' '.join([prep_v, parsed_day_n.inflect({'accs'}).word, 'в', \n",
    "                  restore_capitalization(parsed_city.inflect({'loct'}).word, city), change,\n",
    "                  'на', str(abs(diff)), parsed_degree.make_agree_with_number(abs(diff)).word,\n",
    "                  'по сравнению', prep_s, parsed_day_l.inflect({'ablt'}).word, '.'])\n",
    "    \n",
    "    return s"
   ]
  },
  {
   "cell_type": "code",
   "execution_count": 790,
   "metadata": {},
   "outputs": [],
   "source": [
    "def wind_forecast(day_new, day_last):\n",
    "    day_n = days_full[dates_d[day_new][:2]]\n",
    "    day_l = days_full[dates_d[day_last][:2]]\n",
    "    diff = int(df[dates_d[day_new]].iloc[2])-int(df[dates_d[day_last]].iloc[2])\n",
    "    \n",
    "    parsed_diff = morph.parse('единица')[0]\n",
    "    prep_v = 'во' if day_n == 'Вторник' else 'в'\n",
    "    prep_s = 'со' if day_l == 'Вторник' or day_l =='Среда' else 'с'\n",
    "    parsed_day_n = morph.parse(day_n)[0]\n",
    "    parsed_day_l = morph.parse(day_l)[0]\n",
    "    s = ' '.join(['Скорость ветра изменится на', str(diff),\n",
    "                 parsed_diff.inflect({'accs'}).make_agree_with_number(diff).word,\n",
    "                 prep_v, parsed_day_n.inflect({'accs'}).word, 'по сравнению', prep_s, parsed_day_l.inflect({'ablt'}).word, '.'])\n",
    "    return s"
   ]
  },
  {
   "cell_type": "code",
   "execution_count": 699,
   "metadata": {},
   "outputs": [],
   "source": [
    "def prec_forecast(n):\n",
    "    diff = float(df.iloc[3,n-1])-float(df.iloc[3,0])\n",
    "    parsed_day = morph.parse('день')[0]\n",
    "    \n",
    "    if diff > 0:\n",
    "        change = 'повысится'\n",
    "    if diff < 0:\n",
    "        change = 'понизится'\n",
    "    if diff == 0:\n",
    "        return ' '.join(['Уровень осадков не изменится за', str(n),parsed_day.make_agree_with_number(n).word, '.'])\n",
    "    \n",
    "    diff = round(abs(diff),2)\n",
    "    parsed_diff = morph.parse('единица')[0]\n",
    "\n",
    "    \n",
    "    s = ' '.join(['Уровень осадков', change, 'на', str(diff), parsed_diff.inflect({'accs'}).make_agree_with_number(diff).word,\n",
    "                  'за', str(n), parsed_day.make_agree_with_number(n).word, '.'])\n",
    "    return s"
   ]
  },
  {
   "cell_type": "markdown",
   "metadata": {},
   "source": [
    "Проверим работу:"
   ]
  },
  {
   "cell_type": "code",
   "execution_count": 702,
   "metadata": {},
   "outputs": [
    {
     "data": {
      "text/plain": [
       "'Уровень осадков понизится на 0.85 единиц за 2 дня .'"
      ]
     },
     "execution_count": 702,
     "metadata": {},
     "output_type": "execute_result"
    }
   ],
   "source": [
    "prec_forecast(2)"
   ]
  },
  {
   "cell_type": "code",
   "execution_count": 791,
   "metadata": {},
   "outputs": [
    {
     "data": {
      "text/plain": [
       "'Скорость ветра изменится на 3 единицы во вторник по сравнению с понедельником .'"
      ]
     },
     "execution_count": 791,
     "metadata": {},
     "output_type": "execute_result"
    }
   ],
   "source": [
    "wind_forecast(20,19)"
   ]
  },
  {
   "cell_type": "code",
   "execution_count": 789,
   "metadata": {},
   "outputs": [
    {
     "data": {
      "text/plain": [
       "'Во вторник в Петрозаводске потеплеет на 1 градус по сравнению с понедельником .'"
      ]
     },
     "execution_count": 789,
     "metadata": {},
     "output_type": "execute_result"
    }
   ],
   "source": [
    "temp_forecast(20,19)"
   ]
  },
  {
   "cell_type": "markdown",
   "metadata": {},
   "source": [
    "Выведем сразу все разом:"
   ]
  },
  {
   "cell_type": "code",
   "execution_count": 796,
   "metadata": {},
   "outputs": [
    {
     "name": "stdout",
     "output_type": "stream",
     "text": [
      "В среду в Петрозаводске похолодает на 1 градус по сравнению с понедельником .\n",
      "Скорость ветра изменится на 1 единицу в среду по сравнению с понедельником .\n",
      "Уровень осадков понизится на 1.45 единиц за 3 дня .\n"
     ]
    }
   ],
   "source": [
    "print(temp_forecast(21,19))\n",
    "print(wind_forecast(21,19))\n",
    "print(prec_forecast(3))"
   ]
  },
  {
   "cell_type": "markdown",
   "metadata": {},
   "source": [
    "---\n",
    "### 3. Ответы на вопросы"
   ]
  },
  {
   "cell_type": "markdown",
   "metadata": {},
   "source": [
    "* *В каких других задачах (помимо описания прогноза погоды) может понадобиться генерировать текст по шаблонам? В каких задачах может понадобиться генерировать текст об изменении числовых показателей по шаблонам?*\n",
    "\n",
    "**Ответ:**\n",
    "Например, для генерации однотипных отчетов, отличающихся только некоторыми данными. Также можно использовать для автоматических ответов с почтовых ящиков или при написании простенького бота.\n",
    "\n",
    "Генерация текста об изменении числовых показателей по шаблонам подойдет для ведения журнала показаний приборов."
   ]
  },
  {
   "cell_type": "markdown",
   "metadata": {},
   "source": [
    "* *Шаблоны, которые вы использовали в этом задании, имеют фиксированную структуру. Фактически, ваша задача заключалась в том, чтобы подставить в шаблон число и согласовать единицы измерения с этим числом или подставить в шаблон название города и согласовать его с предлогом. Как можно разнообразить эти шаблоны? Как знание синтаксической структуры предложения может помочь в этой задаче?*\n",
    "\n",
    "**Ответ:**\n",
    "Если собирать информацию о типах осадков - можно было бы включить их в шаблоны. Также менее строгие рамки шаблона привнесли бы больше разнообразия в результатах генерации, но при этом бы и усложнили задачу. "
   ]
  }
 ],
 "metadata": {
  "kernelspec": {
   "display_name": "Python [conda root]",
   "language": "python",
   "name": "conda-root-py"
  },
  "language_info": {
   "codemirror_mode": {
    "name": "ipython",
    "version": 3
   },
   "file_extension": ".py",
   "mimetype": "text/x-python",
   "name": "python",
   "nbconvert_exporter": "python",
   "pygments_lexer": "ipython3",
   "version": "3.5.4"
  }
 },
 "nbformat": 4,
 "nbformat_minor": 2
}
