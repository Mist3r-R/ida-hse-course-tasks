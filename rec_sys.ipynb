{
 "cells": [
  {
   "cell_type": "markdown",
   "metadata": {},
   "source": [
    "## Рекомендательные системы: предсказание оценки"
   ]
  },
  {
   "cell_type": "markdown",
   "metadata": {},
   "source": [
    "Рассмотрим задачу предсказания оценки, которую пользователь поставит фильму. Особенность этой задачи в том, что объекты выборки описываются категориальными признаками, принимающими большое число значений (например: идентификатор пользователя, идентификатор фильма, тэги, киноперсоны).\n",
    "\n",
    "Данные: [MovieLens + IMDb/Rotten Tomatoes](http://files.grouplens.org/datasets/hetrec2011/hetrec2011-movielens-2k-v2.zip) ([описание](http://files.grouplens.org/datasets/hetrec2011/hetrec2011-movielens-readme.txt)). Набор содержит данные о предпочтениях пользователей сервиса рекомендации кинофильмов [MovieLens](http://www.movielens.org/). Пользовательские оценки для фильмов принимают значения в интервале от 0.5 до 5.0, они записаны в файле *user_ratedmovies.dat* (а также в *user_ratedmovies-timestamps.dat*,  где для каждой оценки записана дата и время в формате timestamp), остальные файлы содержат дополнительную информацию о фильмах, которую можно использовать как признаки. Заметьте: кроме оценок (и тегов), про пользователя ничего не известно.\n",
    "\n",
    "Задача: построить модель, предсказывающую оценку пользователя фильму, который он еще не смотрел.\n",
    "\n",
    "Метрика качества: будем считать, что пользователю сервиса доступен блок рекомендаций, который может содержать рекомендации не более чем 5 фильмов.\n",
    "Выберем некоторого пользователя $u$ и обозначим известные для него рейтинги за $R^u$. В качестве тестовых рейтингов $R^u_{test}$ для этого пользователя рассмотрим 5 рейтингов, поставленные последними по времени, в качестве валидационных $R^u_{val}$ — предпоследние 5 рейтингов. Остальные известные рейтинги этого пользователя будут составлять обучающую выборку $R^u_{train}$.\n",
    "Для подбора гиперпараметров в рамках данного задания будем использовать валидационную выборку, предварительно обучив модель на обучающей выборке, а для финальной оценки качества — тестовую выборку, предварительно обучив модель на обучающей и валидационной выборках."
   ]
  },
  {
   "cell_type": "markdown",
   "metadata": {},
   "source": [
    "**1. (1 балл)** Загрузите данные и сформируйте 3 разреженные матрицы пользователи—фильмы для обучающих, валидационных и тестовых рейтингов пользователей соответственно, где в каждой ячейке стоит рейтинг, если он известен, или ноль, если неизвестен."
   ]
  },
  {
   "cell_type": "code",
   "execution_count": 1,
   "metadata": {},
   "outputs": [],
   "source": [
    "import numpy as np\n",
    "import pandas as pd\n",
    "from scipy import sparse\n",
    "from collections import Counter\n",
    "import matplotlib.pyplot as plt\n",
    "%matplotlib inline"
   ]
  },
  {
   "cell_type": "markdown",
   "metadata": {},
   "source": [
    "Загрузим данные в датафреймы (для рейтингов будем использовать таблицы с timestamp):"
   ]
  },
  {
   "cell_type": "code",
   "execution_count": 2,
   "metadata": {},
   "outputs": [],
   "source": [
    "user_rate = pd.read_csv('movielens/user_ratedmovies-timestamps.dat', sep='\\t')\n",
    "\n",
    "#movie_actors = pd.read_csv('movielens/movie_actors.dat', sep='\\t')\n",
    "#movie_countries = pd.read_csv('movielens/movie_countries.dat', sep='\\t')\n",
    "#movie_directors = pd.read_csv('movielens/movie_directors.dat', sep='\\t')\n",
    "#movie_genres = pd.read_csv('movielens/movie_genres.dat', sep='\\t')\n",
    "#movie_locations = pd.read_csv('movielens/movie_locations.dat', sep='\\t')\n",
    "#movie_tags = pd.read_csv('movielens/movie_tags.dat', sep='\\t')\n",
    "#movies = pd.read_csv('movielens/movies.dat', sep='\\t')\n",
    "#tags = pd.read_csv('movielens/tags.dat', sep='\\t')\n",
    "#user_taggedmovies_timestamps = pd.read_csv('movielens/user_taggedmovies-timestamps.dat', sep='\\t')"
   ]
  },
  {
   "cell_type": "code",
   "execution_count": 3,
   "metadata": {},
   "outputs": [
    {
     "data": {
      "text/html": [
       "<div>\n",
       "<style scoped>\n",
       "    .dataframe tbody tr th:only-of-type {\n",
       "        vertical-align: middle;\n",
       "    }\n",
       "\n",
       "    .dataframe tbody tr th {\n",
       "        vertical-align: top;\n",
       "    }\n",
       "\n",
       "    .dataframe thead th {\n",
       "        text-align: right;\n",
       "    }\n",
       "</style>\n",
       "<table border=\"1\" class=\"dataframe\">\n",
       "  <thead>\n",
       "    <tr style=\"text-align: right;\">\n",
       "      <th></th>\n",
       "      <th>userID</th>\n",
       "      <th>movieID</th>\n",
       "      <th>rating</th>\n",
       "      <th>timestamp</th>\n",
       "    </tr>\n",
       "  </thead>\n",
       "  <tbody>\n",
       "    <tr>\n",
       "      <th>0</th>\n",
       "      <td>75</td>\n",
       "      <td>3</td>\n",
       "      <td>1.0</td>\n",
       "      <td>1162160236000</td>\n",
       "    </tr>\n",
       "    <tr>\n",
       "      <th>1</th>\n",
       "      <td>75</td>\n",
       "      <td>32</td>\n",
       "      <td>4.5</td>\n",
       "      <td>1162160624000</td>\n",
       "    </tr>\n",
       "    <tr>\n",
       "      <th>2</th>\n",
       "      <td>75</td>\n",
       "      <td>110</td>\n",
       "      <td>4.0</td>\n",
       "      <td>1162161008000</td>\n",
       "    </tr>\n",
       "    <tr>\n",
       "      <th>3</th>\n",
       "      <td>75</td>\n",
       "      <td>160</td>\n",
       "      <td>2.0</td>\n",
       "      <td>1162160212000</td>\n",
       "    </tr>\n",
       "    <tr>\n",
       "      <th>4</th>\n",
       "      <td>75</td>\n",
       "      <td>163</td>\n",
       "      <td>4.0</td>\n",
       "      <td>1162160970000</td>\n",
       "    </tr>\n",
       "  </tbody>\n",
       "</table>\n",
       "</div>"
      ],
      "text/plain": [
       "   userID  movieID  rating      timestamp\n",
       "0      75        3     1.0  1162160236000\n",
       "1      75       32     4.5  1162160624000\n",
       "2      75      110     4.0  1162161008000\n",
       "3      75      160     2.0  1162160212000\n",
       "4      75      163     4.0  1162160970000"
      ]
     },
     "execution_count": 3,
     "metadata": {},
     "output_type": "execute_result"
    }
   ],
   "source": [
    "user_rate.head()"
   ]
  },
  {
   "cell_type": "markdown",
   "metadata": {},
   "source": [
    "Зададим константы для размерностей наших матриц:"
   ]
  },
  {
   "cell_type": "code",
   "execution_count": 4,
   "metadata": {},
   "outputs": [
    {
     "data": {
      "text/plain": [
       "71535"
      ]
     },
     "execution_count": 4,
     "metadata": {},
     "output_type": "execute_result"
    }
   ],
   "source": [
    "USERMAX = max(user_rate.userID.unique()) + 1\n",
    "USERMAX"
   ]
  },
  {
   "cell_type": "code",
   "execution_count": 5,
   "metadata": {},
   "outputs": [
    {
     "data": {
      "text/plain": [
       "65134"
      ]
     },
     "execution_count": 5,
     "metadata": {},
     "output_type": "execute_result"
    }
   ],
   "source": [
    "MOVIEMAX = max(user_rate.movieID.unique()) + 1 \n",
    "MOVIEMAX"
   ]
  },
  {
   "cell_type": "markdown",
   "metadata": {},
   "source": [
    "Разобьем данные на три датафрейма, из которых потом получим матрицы:"
   ]
  },
  {
   "cell_type": "code",
   "execution_count": 6,
   "metadata": {},
   "outputs": [],
   "source": [
    "def split_data(user_rates):\n",
    "    cols = user_rates.columns\n",
    "    idx = np.arange(0,len(user_rates.userID.unique())*5)\n",
    "    test = pd.DataFrame(index=idx, columns=cols)\n",
    "    val = pd.DataFrame(index=idx, columns=cols)\n",
    "    j = 0\n",
    "    k = 0\n",
    "    todrop = []\n",
    "    for uid in user_rates.userID.unique():\n",
    "        temp = user_rate[user_rate['userID']==uid].sort_values(by='timestamp', ascending=False)\n",
    "        for i in range(0,5):\n",
    "            test.loc[j] = temp.iloc[i]\n",
    "            todrop.append(temp.iloc[i].name)\n",
    "            j+=1\n",
    "        for i in range(5,10):\n",
    "            val.loc[k] = temp.iloc[i]\n",
    "            todrop.append(temp.iloc[i].name)\n",
    "            k+=1\n",
    "    train = user_rates.drop(todrop)\n",
    "    test[['userID', 'movieID', 'timestamp']] = test[['userID', 'movieID', 'timestamp']].astype('int')\n",
    "    val[['userID', 'movieID', 'timestamp']] = val[['userID', 'movieID', 'timestamp']].astype('int')\n",
    "    test['rating'] = test['rating'].astype('float')\n",
    "    val['rating'] = val['rating'].astype('float')\n",
    "    return train, val, test"
   ]
  },
  {
   "cell_type": "code",
   "execution_count": 7,
   "metadata": {},
   "outputs": [],
   "source": [
    "def make_matrixes(train, val, test, shapes):\n",
    "    m_train = sparse.csr_matrix((train.rating.values, (train.userID.values, train.movieID.values)), shape=shapes)\n",
    "    m_val = sparse.csr_matrix((val.rating.values, (val.userID.values, val.movieID.values)), shape=shapes)\n",
    "    m_test = sparse.csr_matrix((test.rating.values, (test.userID.values, test.movieID.values)), shape=shapes)\n",
    "    return m_train, m_val, m_test"
   ]
  },
  {
   "cell_type": "code",
   "execution_count": 8,
   "metadata": {},
   "outputs": [
    {
     "name": "stdout",
     "output_type": "stream",
     "text": [
      "CPU times: user 2min 18s, sys: 4 s, total: 2min 22s\n",
      "Wall time: 2min 30s\n"
     ]
    }
   ],
   "source": [
    "%%time\n",
    "train_df, val_df, test_df = split_data(user_rate)"
   ]
  },
  {
   "cell_type": "code",
   "execution_count": 9,
   "metadata": {},
   "outputs": [
    {
     "data": {
      "text/plain": [
       "True"
      ]
     },
     "execution_count": 9,
     "metadata": {},
     "output_type": "execute_result"
    }
   ],
   "source": [
    "len(train_df) + len(val_df) + len(test_df) == len(user_rate)"
   ]
  },
  {
   "cell_type": "code",
   "execution_count": 10,
   "metadata": {},
   "outputs": [
    {
     "data": {
      "text/plain": [
       "userID         int64\n",
       "movieID        int64\n",
       "rating       float64\n",
       "timestamp      int64\n",
       "dtype: object"
      ]
     },
     "execution_count": 10,
     "metadata": {},
     "output_type": "execute_result"
    }
   ],
   "source": [
    "test_df.dtypes"
   ]
  },
  {
   "cell_type": "code",
   "execution_count": 11,
   "metadata": {},
   "outputs": [],
   "source": [
    "train_rates, val_rates, test_rates = make_matrixes(train_df, val_df, test_df, (USERMAX, MOVIEMAX))"
   ]
  },
  {
   "cell_type": "code",
   "execution_count": 12,
   "metadata": {},
   "outputs": [
    {
     "data": {
      "text/plain": [
       "<71535x65134 sparse matrix of type '<class 'numpy.float64'>'\n",
       "\twith 10565 stored elements in Compressed Sparse Row format>"
      ]
     },
     "execution_count": 12,
     "metadata": {},
     "output_type": "execute_result"
    }
   ],
   "source": [
    "val_rates"
   ]
  },
  {
   "cell_type": "markdown",
   "metadata": {},
   "source": [
    "Качество рекомендаций: будем использовать метрики RMSE@k и nDCG@k для $k=5$, описанные ниже.\n",
    "\n",
    "#### RMSE@k\n",
    "\n",
    "Поскольку нас интересуют лишь фильмы, попавшие в блок рекомендаций, качество работы модели можно оценивать при помощи RMSE на $k$ фильмах с наибольшим предсказанным рейтингом, где $k$ — размер блока рекомендаций. Отсортируем предсказанные моделью рейтинги $\\hat{r}_{ui}$ в порядке убывания и обозначим $i$-ый элемент в полученной последовательности за $\\hat{r}_{u(i)},$ а соответствующее этому фильму истинное значение рейтинга — за $r_{u(i)}$. Тогда RMSE@k:\n",
    "\n",
    "$$ \\text{RMSE@k}(u) = \\sqrt{ \\frac{1}{k} \\sum_{i=1}^k (r_{u(i)} - \\hat{r}_{u(i)})^2 },$$\n",
    "$$ \\text{RMSE@k} = \\frac{1}{|U|} \\sum_{u \\in U} \\text{RMSE@k}(u),$$\n",
    "где $U$ — множество пользователей. При вычислении данной метрики все неизвестные оценки будем полагать равными 0.\n",
    "\n",
    "#### nDCG@k\n",
    "\n",
    "Также можно использовать метрику качества ранжирования. Для этого для каждого пользователя $u$ предскажем оценку для всех фильмов из $R^u_{test}$ и отсортируем эти фильмы по убыванию предсказанного рейтинга. Ожидается, что хороший алгоритм должен выдать релевантные фильмы вверху списка. Отсортируем предсказанные моделью рейтинги $\\hat{r}_{ui}$ в порядке убывания и обозначим $i$-ый элемент в полученной последовательности за $\\hat{r}_{u(i)},$ а соответствующее этому фильму истинное значение рейтинга — за $r_{u(i)}.$\n",
    "\n",
    "Тогда nDCG@k :\n",
    "\n",
    "$$\\text{DCG@k}(u) = \\sum_{i=1}^k g(r_{u(i)}) d(i),$$\n",
    "$$\\text{nDCG@k}(u) = \\frac{\\text{DCG@k}(u)}{\\max \\text{DCG@k}(u)},$$\n",
    "$$\\text{nDCG@k} = \\frac{1}{|U|} \\sum_{u \\in U} \\text{nDCG@k}(u),$$\n",
    "где $g(r)$ — функция полезности фильма, а  $d(i)$ — штраф за позицию.\n",
    "\n",
    "Положим $g(r) = 2^r-1, \\, d(i) = \\frac{1}{\\log_2 (i+1)}.$ При вычислении данной метрики все неизвестные оценки будем полагать равными 0."
   ]
  },
  {
   "cell_type": "markdown",
   "metadata": {},
   "source": [
    "**2. (2 балла)** Реализуйте функции rmse_score и ndcg_score, вычисляющие значения описанных выше метрик. Каждая из функций в качестве параметров должна принимать:\n",
    " * y_true — матрицу тестовых рейтингов (сформированную аналогично матрице тестовых рейтингов из предыдущего пункта; функция должна корректно работать и для разреженных, и для плотных матриц);\n",
    " * y_predicted — матрицу предсказаний модели в аналогичном формате (функция должна корректно работать и для разреженных, и для плотных матриц);\n",
    " * k — параметр $k$ в определениях метрик."
   ]
  },
  {
   "cell_type": "code",
   "execution_count": 13,
   "metadata": {},
   "outputs": [],
   "source": [
    "from sklearn.metrics import mean_squared_error"
   ]
  },
  {
   "cell_type": "markdown",
   "metadata": {},
   "source": [
    "Вычисление DCG - нужно для nDCG. Возвращает $maxDCG$ и $DCG$."
   ]
  },
  {
   "cell_type": "code",
   "execution_count": 14,
   "metadata": {},
   "outputs": [],
   "source": [
    "def dcg_score(y_true, y_score, k=5):\n",
    "    order = np.argsort(y_score)[::-1]\n",
    "    y_true = np.take(y_true, order[:k])\n",
    "    max_gain = 2**max(y_true) - 1\n",
    "    gains = 2 ** y_true - 1\n",
    "    discounts = np.log2(np.arange(len(y_true)) + 2)\n",
    "    return np.sum(max_gain / discounts), np.sum(gains / discounts)"
   ]
  },
  {
   "cell_type": "code",
   "execution_count": 15,
   "metadata": {},
   "outputs": [],
   "source": [
    "def rmse_score(y_true, y_predicted, k=5):\n",
    "    if type(y_true) == sparse.csr.csr_matrix:\n",
    "        y_true_ = y_true.toarray()\n",
    "    else:\n",
    "        y_true_ = y_true\n",
    "    if type(y_predicted) == sparse.csr.csr_matrix:\n",
    "        y_predicted_ = y_predicted.toarray()\n",
    "    else:\n",
    "        y_predicted_ = y_predicted\n",
    "\n",
    "    rmse = 0.0\n",
    "    i = 0\n",
    "    for row in y_predicted_:\n",
    "        if row.any():\n",
    "            ids = row.argsort()[::-1][:k]\n",
    "            pred = row[ids]\n",
    "            row_ = y_true_[i]\n",
    "            real = row_[ids]\n",
    "            rmse += mean_squared_error(real, pred)**0.5\n",
    "            i+=1\n",
    "    if i > 0:\n",
    "        rmse = rmse/i\n",
    "    return rmse\n",
    "\n",
    "\n",
    "def ndcg_score(y_true, y_predicted, k=5):\n",
    "    if type(y_true) == sparse.csr.csr_matrix:\n",
    "        y_true_ = y_true.toarray()\n",
    "    else:\n",
    "        y_true_ = y_true\n",
    "    if type(y_predicted) == sparse.csr.csr_matrix:\n",
    "        y_predicted_ = y_predicted.toarray()\n",
    "    else:\n",
    "        y_predicted_ = y_predicted\n",
    "\n",
    "    ndcg = 0.0\n",
    "    users = 0\n",
    "    for i in range(y_true.shape[0]):\n",
    "        real_row = y_true_[i]\n",
    "        pred_row = y_predicted_[i]\n",
    "        best, actual = dcg_score(real_row, pred_row, k)\n",
    "        if best:\n",
    "            ndcg += actual/best\n",
    "            users += 1\n",
    "    if users > 0:\n",
    "        ndcg = ndcg / users\n",
    "    return ndcg"
   ]
  },
  {
   "cell_type": "markdown",
   "metadata": {},
   "source": [
    "**3. (1 балл)** Постройте рекомендации на основе **most popular** метода, при котором предсказанный рейтинг для некоторого фильма $i$ одинаков для всех пользователей и совпадает со средним значением рейтинга по всем пользователям, оценившим этот фильм, и вычислите значения метрик RMSE@5 и nDCG@5 для тестовой матрицы из п. 1."
   ]
  },
  {
   "cell_type": "code",
   "execution_count": 16,
   "metadata": {},
   "outputs": [],
   "source": [
    "def most_pop_predict(X):\n",
    "    X = X.tocoo()\n",
    "    sums = np.ravel(X.sum(axis=0))\n",
    "    counts = X.getnnz(axis=0)\n",
    "    sums[counts.nonzero()] = sums[counts.nonzero()]/counts[counts.nonzero()] #our mean ratings\n",
    "    Y = np.zeros(shape=X.shape)\n",
    "    for i in X.getnnz(axis=1).nonzero()[0]:\n",
    "        Y[i] = sums\n",
    "    return sparse.csr_matrix(Y)"
   ]
  },
  {
   "cell_type": "code",
   "execution_count": 17,
   "metadata": {},
   "outputs": [
    {
     "name": "stdout",
     "output_type": "stream",
     "text": [
      "CPU times: user 1min 25s, sys: 53.5 s, total: 2min 19s\n",
      "Wall time: 2min 42s\n"
     ]
    }
   ],
   "source": [
    "%%time\n",
    "predicted_mp = most_pop_predict(train_rates + val_rates)"
   ]
  },
  {
   "cell_type": "code",
   "execution_count": 18,
   "metadata": {},
   "outputs": [
    {
     "name": "stdout",
     "output_type": "stream",
     "text": [
      "CPU times: user 21.6 s, sys: 23.4 s, total: 45 s\n",
      "Wall time: 47.8 s\n"
     ]
    },
    {
     "data": {
      "text/plain": [
       "5.0"
      ]
     },
     "execution_count": 18,
     "metadata": {},
     "output_type": "execute_result"
    }
   ],
   "source": [
    "%%time\n",
    "rmse_score(test_rates, predicted_mp, k=5)"
   ]
  },
  {
   "cell_type": "code",
   "execution_count": 19,
   "metadata": {},
   "outputs": [
    {
     "name": "stdout",
     "output_type": "stream",
     "text": [
      "CPU times: user 2min 17s, sys: 25.9 s, total: 2min 43s\n",
      "Wall time: 2min 53s\n"
     ]
    },
    {
     "data": {
      "text/plain": [
       "0.14606834984270645"
      ]
     },
     "execution_count": 19,
     "metadata": {},
     "output_type": "execute_result"
    }
   ],
   "source": [
    "%%time\n",
    "ndcg_score(test_rates, predicted_mp, k=5)"
   ]
  },
  {
   "cell_type": "markdown",
   "metadata": {},
   "source": [
    "**4. (1 балл)** Реализуйте построение рекомендаций путём разложения матрицы рейтингов с помощью [разреженного SVD](http://scikit-learn.org/stable/modules/generated/sklearn.decomposition.TruncatedSVD.html) (в предположении, что неизвестные рейтинги заменяются на нули) и последующего её восстановления и постройте график зависимости метрик RMSE@5 и nDCG@5 от значения ранга разложения на валидационной выборке (рассмотрите как минимум 10 различных значений ранга разложения)"
   ]
  },
  {
   "cell_type": "code",
   "execution_count": 16,
   "metadata": {},
   "outputs": [],
   "source": [
    "from sklearn.decomposition import TruncatedSVD"
   ]
  },
  {
   "cell_type": "code",
   "execution_count": 17,
   "metadata": {},
   "outputs": [],
   "source": [
    "def SVD(train, val, rank, k=5):\n",
    "    svd = TruncatedSVD(n_components=rank)\n",
    "    transformed = svd.fit_transform(train)\n",
    "    restored = svd.inverse_transform(transformed)\n",
    "    rmse = rmse_score(val, restored, k)\n",
    "    ndcg = ndcg_score(val, restored, k)\n",
    "    return rmse, ndcg"
   ]
  },
  {
   "cell_type": "code",
   "execution_count": 22,
   "metadata": {},
   "outputs": [
    {
     "name": "stdout",
     "output_type": "stream",
     "text": [
      "CPU times: user 4min 6s, sys: 2min 47s, total: 6min 53s\n",
      "Wall time: 7min 22s\n"
     ]
    },
    {
     "data": {
      "text/plain": [
       "(3.3593244176659787, 0.22130478921187666)"
      ]
     },
     "execution_count": 22,
     "metadata": {},
     "output_type": "execute_result"
    }
   ],
   "source": [
    "%%time\n",
    "SVD(train_rates, val_rates, rank=10)"
   ]
  },
  {
   "cell_type": "code",
   "execution_count": 24,
   "metadata": {},
   "outputs": [
    {
     "name": "stdout",
     "output_type": "stream",
     "text": [
      "Decomposing for rank 5 ...\n",
      "RMSE: 3.127\n",
      "nDCG: 0.234\n",
      "=================================\n",
      "Decomposing for rank 8 ...\n",
      "RMSE: 3.294\n",
      "nDCG: 0.232\n",
      "=================================\n",
      "Decomposing for rank 10 ...\n",
      "RMSE: 3.358\n",
      "nDCG: 0.220\n",
      "=================================\n",
      "Decomposing for rank 13 ...\n",
      "RMSE: 3.493\n",
      "nDCG: 0.226\n",
      "=================================\n",
      "Decomposing for rank 15 ...\n",
      "RMSE: 3.535\n",
      "nDCG: 0.224\n",
      "=================================\n",
      "Decomposing for rank 20 ...\n",
      "RMSE: 3.652\n",
      "nDCG: 0.211\n",
      "=================================\n",
      "Decomposing for rank 25 ...\n",
      "RMSE: 3.738\n",
      "nDCG: 0.208\n",
      "=================================\n",
      "Decomposing for rank 30 ...\n",
      "RMSE: 3.786\n",
      "nDCG: 0.208\n",
      "=================================\n",
      "Decomposing for rank 50 ...\n",
      "RMSE: 3.957\n",
      "nDCG: 0.206\n",
      "=================================\n",
      "Decomposing for rank 75 ...\n",
      "RMSE: 4.083\n",
      "nDCG: 0.176\n",
      "=================================\n",
      "CPU times: user 41min 46s, sys: 28min 9s, total: 1h 9min 56s\n",
      "Wall time: 1h 11min 24s\n"
     ]
    }
   ],
   "source": [
    "%%time\n",
    "ranks = [5, 8, 10, 13, 15, 20, 25, 30, 50, 75]\n",
    "\n",
    "rmses = []\n",
    "ndcgs = []\n",
    "\n",
    "for r in ranks:\n",
    "    print('Decomposing for rank {} ...'.format(r))\n",
    "    rmse, ndcg = SVD(train_rates, val_rates, rank=r)\n",
    "    rmses.append(rmse)\n",
    "    ndcgs.append(ndcg)\n",
    "    print('RMSE: {:.3f}\\nnDCG: {:.3f}'.format(rmse, ndcg))\n",
    "    print('=================================')"
   ]
  },
  {
   "cell_type": "code",
   "execution_count": 28,
   "metadata": {},
   "outputs": [
    {
     "data": {
      "image/png": "[encoded data removed]",
      "text/plain": [
       "<matplotlib.figure.Figure at 0x116b5f630>"
      ]
     },
     "metadata": {},
     "output_type": "display_data"
    },
    {
     "data": {
      "image/png": "[encoded data removed]",
      "text/plain": [
       "<matplotlib.figure.Figure at 0x116687710>"
      ]
     },
     "metadata": {},
     "output_type": "display_data"
    }
   ],
   "source": [
    "plt.plot(ranks, rmses)\n",
    "plt.xlabel('Ranks')\n",
    "plt.ylabel('RMSE')\n",
    "plt.title('RMSE')\n",
    "plt.show()\n",
    "\n",
    "plt.plot(ranks, ndcgs)\n",
    "plt.xlabel('Ranks')\n",
    "plt.ylabel('nDCG')\n",
    "plt.title('nDCG')\n",
    "plt.show()"
   ]
  },
  {
   "cell_type": "markdown",
   "metadata": {
    "collapsed": true
   },
   "source": [
    "**5. (3 балла)** Постройте рекомендации на основе user-based коллаборативной фильтрации. \n",
    "Предсказание модели $\\hat{r}_{ui}$ вычисляйте по следующей формуле:\n",
    "$$\\hat{r}_{ui} = \\bar{r}_{u} + \\frac{\\sum_{v \\in U(u)} w_{uv} (r_{vi} - \\bar{r}_v)}{\\sum_{v \\in U(u)} w_{uv}},$$\n",
    "где $\\bar{r}_u$ — средний ретинг пользователя $u$, $w_{uv}$ — мера сходства пользователей $u$ и $v$, $U(u) = \\{ v \\in U \\, | \\, w_{uv} > \\alpha\\}$ — коллаборация пользователя $u$. \n",
    "\n",
    "Значение параметра $\\alpha$ возьмите равным 0.9.\n",
    "\n",
    "Вычислите значения метрик RMSE@5 и nDCG@5 на тестовой выборке."
   ]
  },
  {
   "cell_type": "code",
   "execution_count": 18,
   "metadata": {},
   "outputs": [],
   "source": [
    "from sklearn.metrics.pairwise import pairwise_distances"
   ]
  },
  {
   "cell_type": "markdown",
   "metadata": {},
   "source": [
    "На первом шаге вычислим матрицу мер сходств пользователей:"
   ]
  },
  {
   "cell_type": "code",
   "execution_count": 19,
   "metadata": {},
   "outputs": [
    {
     "name": "stdout",
     "output_type": "stream",
     "text": [
      "CPU times: user 1min 40s, sys: 3min 53s, total: 5min 33s\n",
      "Wall time: 16min 51s\n"
     ]
    }
   ],
   "source": [
    "%%time\n",
    "user_similarity = pairwise_distances(train_rates, metric='cosine')"
   ]
  },
  {
   "cell_type": "code",
   "execution_count": 20,
   "metadata": {},
   "outputs": [
    {
     "data": {
      "text/plain": [
       "array([ 1.        ,  1.        ,  1.        , ...,  1.        ,\n",
       "        1.        ,  0.93515792])"
      ]
     },
     "execution_count": 20,
     "metadata": {},
     "output_type": "execute_result"
    }
   ],
   "source": [
    "user_similarity[75]"
   ]
  },
  {
   "cell_type": "markdown",
   "metadata": {},
   "source": [
    "Затем вычислим средние рейтинги пользователей:"
   ]
  },
  {
   "cell_type": "code",
   "execution_count": 21,
   "metadata": {},
   "outputs": [],
   "source": [
    "def get_mean_ratings(X):\n",
    "    sums = np.ravel(X.sum(axis=1))\n",
    "    user_rates = np.zeros(shape=X.shape[0])\n",
    "    for u in X.getnnz(axis=1).nonzero()[0]:\n",
    "        user_rates[u] = sums[u] / X[u].getnnz()\n",
    "    return user_rates"
   ]
  },
  {
   "cell_type": "code",
   "execution_count": 22,
   "metadata": {},
   "outputs": [
    {
     "data": {
      "text/plain": [
       "(71535,)"
      ]
     },
     "execution_count": 22,
     "metadata": {},
     "output_type": "execute_result"
    }
   ],
   "source": [
    "mean_ratings = get_mean_ratings(train_rates)\n",
    "mean_ratings.shape"
   ]
  },
  {
   "cell_type": "code",
   "execution_count": 23,
   "metadata": {},
   "outputs": [
    {
     "data": {
      "text/plain": [
       "2113"
      ]
     },
     "execution_count": 23,
     "metadata": {},
     "output_type": "execute_result"
    }
   ],
   "source": [
    "len(mean_ratings.nonzero()[0])"
   ]
  },
  {
   "cell_type": "code",
   "execution_count": 24,
   "metadata": {},
   "outputs": [],
   "source": [
    "def get_similar_users_with_coef(user, coefs, real, a=0.9):\n",
    "    similar = []\n",
    "    w = []\n",
    "    for u in real:\n",
    "        if u != user and coefs[u] > a:\n",
    "            similar.append(u)\n",
    "            w.append(coefs[u])\n",
    "    return similar, w"
   ]
  },
  {
   "cell_type": "code",
   "execution_count": 25,
   "metadata": {},
   "outputs": [],
   "source": [
    "def CF(X, sim_mtx, mean_r, a=0.9):\n",
    "    real_users = X.getnnz(axis=1).nonzero()[0]\n",
    "    Y = np.zeros(shape=X.shape)\n",
    "    for u in real_users:\n",
    "        rates = X[u].toarray()\n",
    "        s, w = get_similar_users_with_coef(u, sim_mtx[u], real_users, a)\n",
    "        weights_sum = sum(w)\n",
    "        for i in range(len(rates)):\n",
    "            similar_r_sum = 0.0\n",
    "            for j in range(len(s)):\n",
    "                v = s[j]\n",
    "                if X[v,i]:\n",
    "                    similar_r_sum += w[j] * (X[v,i] - mean_r[v])\n",
    "            rate = mean_r[u] + similar_r_sum / weights_sum\n",
    "            Y[u][i] = rate\n",
    "    return sparse.csr_matrix(Y)"
   ]
  },
  {
   "cell_type": "code",
   "execution_count": null,
   "metadata": {},
   "outputs": [],
   "source": [
    "%%time\n",
    "predicted = CF(train_rates, user_similarity, mean_ratings)"
   ]
  },
  {
   "cell_type": "markdown",
   "metadata": {
    "collapsed": true
   },
   "source": [
    "**6. (1 балл)** Какой метод оказался лучше по каким метрикам? Почему?"
   ]
  },
  {
   "cell_type": "markdown",
   "metadata": {},
   "source": [
    "$MostPop$, очевидно, показывает наихудший результат по обоим метрикам. Например, фильм был оценен только одним пользователем - он ему поставил максимальную оценку (5). Тогда такой фильм всегда будет в топе предложений для остальных.\n",
    "\n",
    "$SVD$ работает существенно лучше, однако все равно значение RMSE достаточно велико (и увеличивается с увеличением ранга), а nDCG - достаточно низко.\n",
    "\n",
    "Оценить работу user-based CF возможным не предоставилось из-за слишком долгого выполнения (в моем случае прошло больше часа, а выполнение так и не закончилось). По моим соображениям, результаты должны быть не хуже работы SVD."
   ]
  },
  {
   "cell_type": "markdown",
   "metadata": {},
   "source": [
    "**7. (1 балл)** Приведите достоинства и недостатки используемых метрик. Какие еще метрики можно было бы использовать для решения задачи? Приведите примеры других постановок задачи, как в этом случае можно было бы оценить качество?"
   ]
  },
  {
   "cell_type": "markdown",
   "metadata": {},
   "source": [
    "Можно использовать $MAE$ (Mean Absolute Error).\n",
    "\n",
    "Если нам необходимо предсказать, понравится ли фильм или нет пользователю (т.е. задача сводится к бинарной), можно воспользоваться $Precision@k$ и $Recall@k$, а также весьма популярной $map@K$"
   ]
  }
 ],
 "metadata": {
  "kernelspec": {
   "display_name": "Python [conda env:anaconda]",
   "language": "python",
   "name": "conda-env-anaconda-py"
  },
  "language_info": {
   "codemirror_mode": {
    "name": "ipython",
    "version": 3
   },
   "file_extension": ".py",
   "mimetype": "text/x-python",
   "name": "python",
   "nbconvert_exporter": "python",
   "pygments_lexer": "ipython3",
   "version": "3.5.4"
  }
 },
 "nbformat": 4,
 "nbformat_minor": 1
}
